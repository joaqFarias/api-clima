{
  "nbformat": 4,
  "nbformat_minor": 0,
  "metadata": {
    "colab": {
      "name": "Prediccion Consumos ESVAL.ipynb",
      "provenance": [],
      "collapsed_sections": [],
      "toc_visible": true,
      "mount_file_id": "19YPbhje5joaCom942cE2FtBZIIyKui5B",
      "authorship_tag": "ABX9TyMSnykiY6Sh4vKDmJP9yZwb",
      "include_colab_link": true
    },
    "kernelspec": {
      "name": "python3",
      "display_name": "Python 3"
    },
    "language_info": {
      "name": "python"
    },
    "accelerator": "GPU"
  },
  "cells": [
    {
      "cell_type": "markdown",
      "metadata": {
        "id": "view-in-github",
        "colab_type": "text"
      },
      "source": [
        "<a href=\"https://colab.research.google.com/github/joaqFarias/api-clima/blob/master/Prediccion_Consumos_ESVAL.ipynb\" target=\"_parent\"><img src=\"https://colab.research.google.com/assets/colab-badge.svg\" alt=\"Open In Colab\"/></a>"
      ]
    },
    {
      "cell_type": "markdown",
      "metadata": {
        "id": "QJFqHzfF5QHP"
      },
      "source": [
        "# Modelos de predicción de consumos ESVAL S.A.\n",
        "\n",
        "**Autor: Joaquin Farias**\n",
        "\n",
        "\n",
        "\n",
        "\n",
        "\n"
      ]
    },
    {
      "cell_type": "markdown",
      "metadata": {
        "id": "rrklcXfLIGvO"
      },
      "source": [
        "## 1. Explicacion de modelos y resultados"
      ]
    },
    {
      "cell_type": "markdown",
      "metadata": {
        "id": "O4QGa2_uH8VW"
      },
      "source": [
        "### 1.1 Variables y segmentaciones\n",
        "\n",
        "<p>Este Colab es el entregable final del proyecto dedicado a predecir el consumo de aguas de los clientes de la empresa ESVAL S.A. Para esto se ocuparon 3 variables:</p>\n",
        "\n",
        "* Consumos historicos de clientes\n",
        "* Temperaturas historicas\n",
        "* Dias con lluvias historicos\n",
        "\n",
        "<p>Cabe mencionar que los datos estan dictados de manera mensual. Las temperaturas son las temperaturas maximas promedio de los dias entre facturacion dependiendo del dia de facturacion y los dias con lluvias son la cantidad de dias con lluvia para el mismo espacio temporal.</p>\n",
        "\n",
        "<p>Ademas, se hicieron varios modelos para cada segmentacion de clientes, estas segmentaciones fueron:</p>\n",
        "\n",
        "* Empresa\n",
        "* Localidad\n",
        "* Categoria de clientes\n",
        "* Sector de facturacion\n",
        "* Estacionalidad de cliente"
      ]
    },
    {
      "cell_type": "markdown",
      "metadata": {
        "id": "bkSB267rHbWi"
      },
      "source": [
        "### 1.2 Ejemplo de serie temporal\n",
        "\n",
        "<p>Haciendo un analisis de los datos se noto la relacion entre ellos que se ven ejemplificados en este ejemplo que tiene todos los datos normalizados entre -1 y 1, ademas de estar suabizados para mejor apreciación.</p>\n",
        "\n",
        "<img src='https://lh3.googleusercontent.com/-bwUPd-2oNjM/YScw7ESvDHI/AAAAAAAABzc/NO_YTw6Xanc7ASGti9ncTdB-o8ZksAffwCLcBGAsYHQ/image.png'>\n",
        "\n",
        "<p>Existe una relacion proporcional entre la temperatura y el consumo, mientras que una contra proporcional entre los dias con lluvia y el consumo.</p>"
      ]
    },
    {
      "cell_type": "markdown",
      "metadata": {
        "id": "oyfwbyJUHbjm"
      },
      "source": [
        "### 1.3 Resultados de modelos entrenados en el proyecto\n",
        "\n",
        "<p>Despues de diseñar y entrenar los modelos, los resultados del entramiento se muestran en la siguiente grafica que combina el parametro R2 con el error con el consumo real de los modelos</p>\n",
        "\n",
        "<img src='https://lh3.googleusercontent.com/-raHHxD9f_O0/YScw-wfkHII/AAAAAAAABzg/H_pb-If6GQ8uxVsWmQZhOwnHgUDgLItIACLcBGAsYHQ/image.png'>\n",
        "\n",
        "<p>Los mejores modelos de cada categoria (con todas las claves de facturacion y solo con clave de facturacion DL) fueron:</p>\n",
        "\n",
        "* TEMP-LLUVIA-DL\n",
        "* TEMP-LLUVIA-TODO"
      ]
    },
    {
      "cell_type": "markdown",
      "metadata": {
        "id": "zYwwPsk5HYNM"
      },
      "source": [
        "## 2. ¿Como ocupar este Colab?\n",
        "\n",
        "<h3><b>¡Antes que todo, por favor, cambie el ambiente de ejecucion a uno con GPU!</b></h3>\n",
        "\n",
        "<p>Para esto debe ir a la esquina superior derecha y apretar:</p>\n",
        "\n",
        "* <b>Entorno de ejecución -> Cambiar entorno de ejecución -> seleccionar GPU -> Guardar</b>\n",
        "\n",
        "<p>Imagen de ejemplo:</p>\n",
        "<img src='https://1.bp.blogspot.com/-Jgg2ccjElsY/YSdBqI1o8YI/AAAAAAAAB0w/eXoEOGnK6PMtumtJpaUZextWbgF9RTxvgCLcBGAsYHQ/s925/entorno.png' width=600>"
      ]
    },
    {
      "cell_type": "markdown",
      "metadata": {
        "id": "330Pum31IlpX"
      },
      "source": [
        "### 2.1 subir datos\n",
        "\n",
        "<p>Para ocupar este Colab se deben subir los datos a la carpeta manualmente. Para esto simplemente suba el archivo de formato csv (separado por \";\") a las carpeta de contenidos del Colab siguiente la secuencia que se ve en las siguientes imagenes.</p>\n",
        "\n",
        "<p>Seleccione el icono de las carpetas de Colab.</p>\n",
        "<img src='https://1.bp.blogspot.com/-G7lvKMWq7Gk/YSc1bH9hIOI/AAAAAAAABz0/jKkSDTxn4tUyuAMUU0OPkHI3MMLaGmY0ACLcBGAsYHQ/s397/1.png' width=300>\n",
        "\n",
        "<p>Seleccione el icono para subir datos.</p>\n",
        "<img src='https://1.bp.blogspot.com/-T6T6ipvjGME/YSc1cJ6YFVI/AAAAAAAABz4/sCnnas4CBAQ4P9kEScEkInYvzqMelsK6gCLcBGAsYHQ/s425/2.png' width=300>\n",
        "\n",
        "<p>Finalmente seleccione los datos para subirlos.</p>\n",
        "<img src='https://1.bp.blogspot.com/-94JYGYRAH2I/YSc1cxd4BiI/AAAAAAAABz8/XNCyzt3QE44zGTdv_U_KtGYNwZxgR5AkwCLcBGAsYHQ/s1366/3.png' width=700>\n",
        "\n",
        "\n",
        "\n",
        "---\n",
        "\n",
        "\n",
        "<h3>Otra opcion</h3>\n",
        "\n",
        "<p>Otra opcion es subir los datos a <b>Google drive</b> y arrastrarlos desde ahi a la carpeta principal de Colab. Para esto simplemente conecte su drive a colab con el boton de la imagen</p>\n",
        "<img src='https://1.bp.blogspot.com/-0INhiUj_mRc/YSc-ncK0-1I/AAAAAAAAB0Q/lxrNdSRr16AaTZO1j8QHM2UtiGmtK2iiwCLcBGAsYHQ/s375/drive1.png' width=300>\n",
        "\n",
        "<p>Luego busque en las carpetas de su drive el archivo de con los datos.</p>\n",
        "<img src='https://1.bp.blogspot.com/-z6j-t-3KbC4/YSc-naRTigI/AAAAAAAAB0Y/WQefducpRy423z7fuAV2Mte_WKa3LUGkwCLcBGAsYHQ/s387/drive2.png' width=300>\n",
        "\n",
        "<p>Finalmente arrastre los datos a la carpeta principal de Colab.</p>\n",
        "<img src='https://1.bp.blogspot.com/-sAwvGVaFVHk/YSc-nS2yjHI/AAAAAAAAB0U/nncaC1yN3Ho4FRMa-N9exk3fGrP3FwImQCLcBGAsYHQ/s821/drive3.png' width=300>"
      ]
    },
    {
      "cell_type": "markdown",
      "metadata": {
        "id": "4WnWql6yLVI5"
      },
      "source": [
        "### 2.2 Formato de datos\n",
        "\n",
        "<p>Los datos subidos deben tener un formato especifico para poder entrenar o evaluar los modelos. Este formato es <b>un archivo .csv separado por punto y coma ( ; ).</b> Ademas el los datos deben tener las siguientes columnas con los siguientes nombres especificos:\n",
        "\n",
        "from sklearn.preprocessing import MinMaxScaler\n",
        "* <b>cod_empresa:</b> codigo de empresa (ESVAL = 1, AdV = 2).\n",
        "* <b>cod_localidad:</b> codigo de localidad.\n",
        "* <b>sector_actual:</b> sector de facturación actual.\n",
        "* <b>ano:</b> año de los datos.\n",
        "* <b>mes:</b> mes de los datos.\n",
        "* <b>CategoAgg:</b> categoria de cliente.\n",
        "* <b>clave_facturacion:</b> clave de facturacion del cobro del mes especifico.\n",
        "* <b>es_cm_inv_2020:</b> si el clientes es o no es estacional.\n",
        "* <b>clientes_AP_sin_gratuitos:</b> numero de clientes.\n",
        "* <b>Promedio T° Máxima:</b> promedio de temperatura dependiente del sector de facturación actual.\n",
        "* <b>dias_lluvia:</b> dias de lluvia dependiente del sector de facturación actual.\n",
        "* <b>m3AP30dsinGraNorm:</b> consumos normalizados a 30 dias y por numero de clientes en la segmentacion dada.\n",
        "\n",
        "<p>En la siguiente imagen se puede ver un ejemplo de los datos:</p>\n",
        "<img src='https://1.bp.blogspot.com/-ecgco_OKZXc/YSc5O-BHqzI/AAAAAAAAB0I/kuIuiv3W6WU-1KnQEE7Y6ZHAkLOKDW1FACLcBGAsYHQ/s1407/datosimg.png'>"
      ]
    },
    {
      "cell_type": "markdown",
      "metadata": {
        "id": "wgKDRhtkOezx"
      },
      "source": [
        "### 2.3 Subir modelos pre-entrenados desde su pc\n",
        "\n",
        "<p>Para subir modelos pre-entrenados desde su computador se deben subir los modelos en una carpeta llamada \"modelos\" y que estara dentro en un archivo <b>zip llamado \"modelos.zip\"</b> de la misma manera que se subio el csv con los datos o desde <b>Google drive</b>. Estos modelos automaticamente se descomprimiran automaticamente.</p>\n",
        "\n",
        "<img src='https://1.bp.blogspot.com/-Pb7gYQC8fEM/YSdATt5tICI/AAAAAAAAB0o/xv0sfezROWEn44VDKvFWYPJiG2h5MVpKwCLcBGAsYHQ/s406/modelosimg.png' width=300>\n"
      ]
    },
    {
      "cell_type": "markdown",
      "metadata": {
        "id": "Gq1YLE0sYb6P"
      },
      "source": [
        "### 2.4 Configuraciones finales\n",
        "\n",
        "<p>Despues de subir los archivos solo debe <b>seleccionar las opciones en el apartado 3</b> y ejercutar todo, para esto debe presionar:\n",
        "\n",
        "* <b>Entorno de ejecución -> Ejecutar todo </b>\n"
      ]
    },
    {
      "cell_type": "markdown",
      "metadata": {
        "id": "Cp2uaH7abUv1"
      },
      "source": [
        "### 2.5 Outputs\n",
        "\n",
        "<p>Al final del proceso de entrenamiento o evaluación obtendra un archivo csv en la carpeta principal de Colab (al lado de los datos y los modelos) llamado <b>\"data_out.csv\"</b> con los resultados y este se descargara automaticamente en su pc (debe aceptar esta descarga).</p>"
      ]
    },
    {
      "cell_type": "markdown",
      "metadata": {
        "id": "RsPi5cwkOXsx"
      },
      "source": [
        "## 3. Configuraciones para entrenar y evaluar los modelos"
      ]
    },
    {
      "cell_type": "markdown",
      "metadata": {
        "id": "yZ0VxIXWVBXL"
      },
      "source": [
        ""
      ]
    },
    {
      "cell_type": "code",
      "metadata": {
        "id": "TAfjPD---Poa"
      },
      "source": [
        "#@title 3.1 Configuración { display-mode: \"form\" }\n",
        "\n",
        "#@markdown #### ¿Entrenar o evaluar modelos?\n",
        "Proceso = 'Evaluacion' #@param [\"Entrenamiento\", \"Evaluacion\"]\n",
        "\n",
        "#@markdown #### ¿Con que variables?\n",
        "Temperaturas = True #@param [\"True\"]\n",
        "Lluvias = True #@param [\"True\", \"False\"]\n",
        "Estacionales = False #@param [\"True\", \"False\"]\n",
        "Clave_facturacion = 'Todas' #@param [\"Todas\", \"DL\"]\n",
        "\n",
        "#@markdown #### Ingrese fecha de inicio y de termino de datos\n",
        "fecha_inicio = '2011-01-01' #@param {type:\"date\"}\n",
        "fecha_final = '2011-01-01' #@param {type:\"date\"}\n",
        "\n",
        "\n",
        "#@markdown # Desde aca puede solo aplicar <b>Entorno de ejecución -> ejecutar todo</b>"
      ],
      "execution_count": 2,
      "outputs": []
    },
    {
      "cell_type": "markdown",
      "metadata": {
        "id": "98KVAQdb5VFp"
      },
      "source": [
        "### 3.2 Codigo para entrenar modelos\n",
        "\n"
      ]
    },
    {
      "cell_type": "code",
      "metadata": {
        "colab": {
          "base_uri": "https://localhost:8080/"
        },
        "id": "bJV-o3L5aXwo",
        "outputId": "839c2dae-fdf3-4f51-a524-da5109a27615"
      },
      "source": [
        "print(f'Proceso: {Proceso}')\n",
        "print(f'Temperaturas: {Temperaturas}')\n",
        "print(f'Lluvias: {Lluvias}')\n",
        "print(f'Estacionales: {Estacionales}')\n",
        "print(f'Clave_facturacion: {Clave_facturacion}')\n",
        "print(f'fecha_inicio: {fecha_inicio}')\n",
        "print(f'fecha_final: {fecha_final}')"
      ],
      "execution_count": 3,
      "outputs": [
        {
          "output_type": "stream",
          "text": [
            "Proceso: Evaluacion\n",
            "Temperaturas: True\n",
            "Lluvias: True\n",
            "Estacionales: False\n",
            "Clave_facturacion: Todas\n",
            "fecha_inicio: 2011-01-01\n",
            "fecha_final: 2011-01-01\n"
          ],
          "name": "stdout"
        }
      ]
    },
    {
      "cell_type": "markdown",
      "metadata": {
        "id": "uLs68TUG5VMR"
      },
      "source": [
        "### 3.3 Codigo para evaluar modelos"
      ]
    },
    {
      "cell_type": "code",
      "metadata": {
        "id": "WxciS74BaZAi"
      },
      "source": [
        ""
      ],
      "execution_count": 3,
      "outputs": []
    },
    {
      "cell_type": "markdown",
      "metadata": {
        "id": "DlKb4ayHdxXg"
      },
      "source": [
        "### 3.4 Codigo para guardar resultados en tu pc"
      ]
    },
    {
      "cell_type": "code",
      "metadata": {
        "id": "yiJXMLnrd0zo"
      },
      "source": [
        ""
      ],
      "execution_count": 3,
      "outputs": []
    }
  ]
}